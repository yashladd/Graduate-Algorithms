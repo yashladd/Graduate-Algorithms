{
 "cells": [
  {
   "cell_type": "code",
   "execution_count": 381,
   "metadata": {},
   "outputs": [],
   "source": [
    "import numpy as np\n",
    "np.random.seed(42)"
   ]
  },
  {
   "cell_type": "code",
   "execution_count": 382,
   "metadata": {},
   "outputs": [],
   "source": [
    "def create_population(siz = 1000000):\n",
    "    arr = []\n",
    "    for i in range(520000):\n",
    "        arr.append(1)\n",
    "    for i in range(480000):\n",
    "        arr.append(-1)\n",
    "\n",
    "    print(len(arr))\n",
    "    arr = np.array(arr)\n",
    "    np.random.shuffle(arr)\n",
    "    return arr"
   ]
  },
  {
   "cell_type": "code",
   "execution_count": 383,
   "metadata": {},
   "outputs": [
    {
     "name": "stdout",
     "output_type": "stream",
     "text": [
      "1000000\n",
      "[-1  1 -1  1  1  1 -1 -1  1 -1  1  1 -1 -1  1 -1  1 -1  1 -1]\n"
     ]
    }
   ],
   "source": [
    "POPULATION = create_population()\n",
    "print(POPULATION[:20])"
   ]
  },
  {
   "cell_type": "code",
   "execution_count": 384,
   "metadata": {},
   "outputs": [],
   "source": [
    "def calculate_probablity(sample_size = 20):\n",
    "    majority = 0\n",
    "    for i in range(100):\n",
    "        rand_idxs = np.random.randint(1000000, size=sample_size)\n",
    "        sample = POPULATION[rand_idxs]\n",
    "        ones = (sample == 1).sum()\n",
    "        if ones > sample_size//2:\n",
    "            majority += 1\n",
    "    return majority / 100"
   ]
  },
  {
   "cell_type": "code",
   "execution_count": 385,
   "metadata": {},
   "outputs": [
    {
     "name": "stdout",
     "output_type": "stream",
     "text": [
      "With sample size = 20, the avg probablity of +1 majority = 0.5\n"
     ]
    }
   ],
   "source": [
    "sample_size = 20\n",
    "p = calculate_probablity(sample_size=sample_size)\n",
    "print(f\"With sample size = {sample_size}, the avg probablity of +1 majority = {p}\")"
   ]
  },
  {
   "cell_type": "code",
   "execution_count": 386,
   "metadata": {},
   "outputs": [
    {
     "name": "stdout",
     "output_type": "stream",
     "text": [
      "With sample size = 100, the avg probablity of +1 majority = 0.62\n"
     ]
    }
   ],
   "source": [
    "sample_size = 100\n",
    "p = calculate_probablity(sample_size=sample_size)\n",
    "print(f\"With sample size = {sample_size}, the avg probablity of +1 majority = {p}\")"
   ]
  },
  {
   "cell_type": "code",
   "execution_count": 387,
   "metadata": {},
   "outputs": [
    {
     "name": "stdout",
     "output_type": "stream",
     "text": [
      "With sample size = 400, the avg probablity of +1 majority = 0.74\n"
     ]
    }
   ],
   "source": [
    "sample_size = 400\n",
    "p = calculate_probablity(sample_size=sample_size)\n",
    "print(f\"With sample size = {sample_size}, the avg probablity of +1 majority = {p}\")"
   ]
  },
  {
   "cell_type": "code",
   "execution_count": 388,
   "metadata": {},
   "outputs": [
    {
     "name": "stdout",
     "output_type": "stream",
     "text": [
      "With sample size = 950, the avg probablity of +1 majority = 0.91\n"
     ]
    }
   ],
   "source": [
    "sample_size = 950\n",
    "p = calculate_probablity(sample_size=sample_size)\n",
    "print(f\"With sample size = {sample_size}, the avg probablity of +1 majority = {p}\")"
   ]
  },
  {
   "cell_type": "code",
   "execution_count": null,
   "metadata": {},
   "outputs": [],
   "source": []
  }
 ],
 "metadata": {
  "kernelspec": {
   "display_name": "ip_grading",
   "language": "python",
   "name": "python3"
  },
  "language_info": {
   "codemirror_mode": {
    "name": "ipython",
    "version": 3
   },
   "file_extension": ".py",
   "mimetype": "text/x-python",
   "name": "python",
   "nbconvert_exporter": "python",
   "pygments_lexer": "ipython3",
   "version": "3.11.5"
  }
 },
 "nbformat": 4,
 "nbformat_minor": 2
}
