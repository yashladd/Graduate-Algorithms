{
 "cells": [
  {
   "cell_type": "code",
   "execution_count": 23,
   "metadata": {},
   "outputs": [],
   "source": [
    "import random"
   ]
  },
  {
   "cell_type": "code",
   "execution_count": 24,
   "metadata": {},
   "outputs": [],
   "source": [
    "RUNS = 50\n",
    "t = int(4e4)"
   ]
  },
  {
   "cell_type": "code",
   "execution_count": 25,
   "metadata": {},
   "outputs": [
    {
     "name": "stdout",
     "output_type": "stream",
     "text": [
      "50 40000\n"
     ]
    }
   ],
   "source": [
    "print(RUNS, t)"
   ]
  },
  {
   "cell_type": "code",
   "execution_count": 26,
   "metadata": {},
   "outputs": [],
   "source": [
    "def calculate_avg_zero_crossings():\n",
    "    ZERO_CROSSINGS  = []\n",
    "    for run in range(RUNS):\n",
    "        X = 0\n",
    "        steps = [-1, 1]\n",
    "        crossings = 0\n",
    "        for i in range(t):\n",
    "            step = steps[random.randint(0,1)]\n",
    "            X += step\n",
    "            if X == 0:\n",
    "                crossings += 1\n",
    "        ZERO_CROSSINGS.append(crossings)\n",
    "\n",
    "    return sum(ZERO_CROSSINGS)/RUNS \n",
    "    \n"
   ]
  },
  {
   "cell_type": "code",
   "execution_count": 27,
   "metadata": {},
   "outputs": [
    {
     "name": "stdout",
     "output_type": "stream",
     "text": [
      "Average zero crossings with 40000 samples = 130.94\n"
     ]
    }
   ],
   "source": [
    "print(f\"Average zero crossings with {t} samples = {calculate_avg_zero_crossings()}\")"
   ]
  },
  {
   "cell_type": "code",
   "execution_count": 28,
   "metadata": {},
   "outputs": [],
   "source": [
    "RUNS = 50\n",
    "t = int(9e4)"
   ]
  },
  {
   "cell_type": "code",
   "execution_count": 29,
   "metadata": {},
   "outputs": [
    {
     "name": "stdout",
     "output_type": "stream",
     "text": [
      "Average zero crossings with 90000 samples = 228.6\n"
     ]
    }
   ],
   "source": [
    "print(f\"Average zero crossings with {t} samples = {calculate_avg_zero_crossings()}\")"
   ]
  },
  {
   "cell_type": "code",
   "execution_count": 30,
   "metadata": {},
   "outputs": [],
   "source": [
    "RUNS = 50\n",
    "t = int(16e4)"
   ]
  },
  {
   "cell_type": "code",
   "execution_count": 31,
   "metadata": {},
   "outputs": [
    {
     "name": "stdout",
     "output_type": "stream",
     "text": [
      "Average zero crossings with 160000 samples = 317.46\n"
     ]
    }
   ],
   "source": [
    "print(f\"Average zero crossings with {t} samples = {calculate_avg_zero_crossings()}\")\n"
   ]
  }
 ],
 "metadata": {
  "kernelspec": {
   "display_name": "ip_grading",
   "language": "python",
   "name": "python3"
  },
  "language_info": {
   "codemirror_mode": {
    "name": "ipython",
    "version": 3
   },
   "file_extension": ".py",
   "mimetype": "text/x-python",
   "name": "python",
   "nbconvert_exporter": "python",
   "pygments_lexer": "ipython3",
   "version": "3.11.5"
  }
 },
 "nbformat": 4,
 "nbformat_minor": 2
}
